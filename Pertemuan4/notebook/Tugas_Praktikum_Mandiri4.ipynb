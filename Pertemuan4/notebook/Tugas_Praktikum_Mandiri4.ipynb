{
 "cells": [
  {
   "cell_type": "code",
   "execution_count": 1,
   "id": "af172991-c7d0-4e5b-80b9-d1e59e3ff0ea",
   "metadata": {},
   "outputs": [
    {
     "data": {
      "text/html": [
       "<div>\n",
       "<style scoped>\n",
       "    .dataframe tbody tr th:only-of-type {\n",
       "        vertical-align: middle;\n",
       "    }\n",
       "\n",
       "    .dataframe tbody tr th {\n",
       "        vertical-align: top;\n",
       "    }\n",
       "\n",
       "    .dataframe thead th {\n",
       "        text-align: right;\n",
       "    }\n",
       "</style>\n",
       "<table border=\"1\" class=\"dataframe\">\n",
       "  <thead>\n",
       "    <tr style=\"text-align: right;\">\n",
       "      <th></th>\n",
       "      <th>ID</th>\n",
       "      <th>Usia</th>\n",
       "      <th>Status</th>\n",
       "      <th>Kelamin</th>\n",
       "      <th>Memiliki_Mobil</th>\n",
       "      <th>Penghasilan</th>\n",
       "      <th>Beli_Mobil</th>\n",
       "    </tr>\n",
       "  </thead>\n",
       "  <tbody>\n",
       "    <tr>\n",
       "      <th>0</th>\n",
       "      <td>1</td>\n",
       "      <td>32</td>\n",
       "      <td>1</td>\n",
       "      <td>0</td>\n",
       "      <td>0</td>\n",
       "      <td>240</td>\n",
       "      <td>1</td>\n",
       "    </tr>\n",
       "    <tr>\n",
       "      <th>1</th>\n",
       "      <td>2</td>\n",
       "      <td>49</td>\n",
       "      <td>2</td>\n",
       "      <td>1</td>\n",
       "      <td>1</td>\n",
       "      <td>100</td>\n",
       "      <td>0</td>\n",
       "    </tr>\n",
       "    <tr>\n",
       "      <th>2</th>\n",
       "      <td>3</td>\n",
       "      <td>52</td>\n",
       "      <td>1</td>\n",
       "      <td>0</td>\n",
       "      <td>2</td>\n",
       "      <td>250</td>\n",
       "      <td>1</td>\n",
       "    </tr>\n",
       "    <tr>\n",
       "      <th>3</th>\n",
       "      <td>4</td>\n",
       "      <td>26</td>\n",
       "      <td>2</td>\n",
       "      <td>1</td>\n",
       "      <td>1</td>\n",
       "      <td>130</td>\n",
       "      <td>0</td>\n",
       "    </tr>\n",
       "    <tr>\n",
       "      <th>4</th>\n",
       "      <td>5</td>\n",
       "      <td>45</td>\n",
       "      <td>3</td>\n",
       "      <td>0</td>\n",
       "      <td>2</td>\n",
       "      <td>237</td>\n",
       "      <td>1</td>\n",
       "    </tr>\n",
       "  </tbody>\n",
       "</table>\n",
       "</div>"
      ],
      "text/plain": [
       "   ID  Usia  Status  Kelamin  Memiliki_Mobil  Penghasilan  Beli_Mobil\n",
       "0   1    32       1        0               0          240           1\n",
       "1   2    49       2        1               1          100           0\n",
       "2   3    52       1        0               2          250           1\n",
       "3   4    26       2        1               1          130           0\n",
       "4   5    45       3        0               2          237           1"
      ]
     },
     "execution_count": 1,
     "metadata": {},
     "output_type": "execute_result"
    }
   ],
   "source": [
    "import pandas as pd\n",
    "\n",
    "# Read the CSV file with a comma delimiter\n",
    "df = pd.read_csv('../data/calonpembelimobil.csv', sep=',')\n",
    "#cetak header data (5 baris data) dari file\n",
    "df.head()"
   ]
  },
  {
   "cell_type": "markdown",
   "id": "a0166f00-5853-4512-b10a-97994e3721a0",
   "metadata": {},
   "source": [
    "## Import Library"
   ]
  },
  {
   "cell_type": "code",
   "execution_count": 3,
   "id": "3f30292e-3ee7-4c95-b2cf-7b3d4ea16c78",
   "metadata": {},
   "outputs": [],
   "source": [
    "import pandas as pd\n",
    "from sklearn.model_selection import train_test_split\n",
    "from sklearn.linear_model import LogisticRegression\n",
    "from sklearn.metrics import accuracy_score, confusion_matrix, classification_report\n"
   ]
  },
  {
   "cell_type": "markdown",
   "id": "cc22e2a5-d888-4a44-96a9-7e023a9332e7",
   "metadata": {},
   "source": [
    "## Baca Dataset"
   ]
  },
  {
   "cell_type": "code",
   "execution_count": 5,
   "id": "6a4a8fbe-375e-4fff-9c6e-77033a60906a",
   "metadata": {},
   "outputs": [
    {
     "name": "stdout",
     "output_type": "stream",
     "text": [
      "   ID  Usia  Status  Kelamin  Memiliki_Mobil  Penghasilan  Beli_Mobil\n",
      "0   1    32       1        0               0          240           1\n",
      "1   2    49       2        1               1          100           0\n",
      "2   3    52       1        0               2          250           1\n",
      "3   4    26       2        1               1          130           0\n",
      "4   5    45       3        0               2          237           1\n"
     ]
    }
   ],
   "source": [
    "df = pd.read_csv('../data/calonpembelimobil.csv', sep=',')\n",
    "print(df.head())"
   ]
  },
  {
   "cell_type": "markdown",
   "id": "b937a83d-c568-4993-ac75-849136d8dac8",
   "metadata": {},
   "source": [
    "## Pisah Fitur dan Label"
   ]
  },
  {
   "cell_type": "code",
   "execution_count": 6,
   "id": "41a0bf0b-c73e-4873-ad70-023276284cdf",
   "metadata": {},
   "outputs": [],
   "source": [
    "X = df[['Usia', 'Status', 'Kelamin', 'Memiliki_Mobil', 'Penghasilan']]\n",
    "y = df['Beli_Mobil']\n"
   ]
  },
  {
   "cell_type": "markdown",
   "id": "2c7ad445-a12e-42c1-af25-512314f1ef35",
   "metadata": {},
   "source": [
    "## Bagi Data Menjadi Training dan Testing"
   ]
  },
  {
   "cell_type": "code",
   "execution_count": 7,
   "id": "8399828d-cb0f-4b0d-b66e-4b0b862833df",
   "metadata": {},
   "outputs": [],
   "source": [
    "X_train, X_test, y_train, y_test = train_test_split(\n",
    "    X, y, test_size=0.2, random_state=42\n",
    ")"
   ]
  },
  {
   "cell_type": "markdown",
   "id": "ed67aa24-04b3-4ae4-8faf-5676deb8bba2",
   "metadata": {},
   "source": [
    "## Buat dan Latih Model Logistic Regression"
   ]
  },
  {
   "cell_type": "code",
   "execution_count": 8,
   "id": "0e069f6e-cf55-4623-804b-e3d43cc292e6",
   "metadata": {},
   "outputs": [
    {
     "name": "stdout",
     "output_type": "stream",
     "text": [
      "Model Logistic Regression berhasil dilatih!\n"
     ]
    }
   ],
   "source": [
    "model = LogisticRegression()\n",
    "model.fit(X_train, y_train)\n",
    "print(\"Model Logistic Regression berhasil dilatih!\")\n"
   ]
  },
  {
   "cell_type": "code",
   "execution_count": 9,
   "id": "8092a9e2-1f80-43eb-b7cd-c4f104415a2f",
   "metadata": {},
   "outputs": [
    {
     "name": "stdout",
     "output_type": "stream",
     "text": [
      "Akurasi Model: 0.93\n",
      "\n",
      "Confusion Matrix:\n",
      " [[ 55   9]\n",
      " [  5 131]]\n",
      "\n",
      "Laporan Klasifikasi:\n",
      "               precision    recall  f1-score   support\n",
      "\n",
      "           0       0.92      0.86      0.89        64\n",
      "           1       0.94      0.96      0.95       136\n",
      "\n",
      "    accuracy                           0.93       200\n",
      "   macro avg       0.93      0.91      0.92       200\n",
      "weighted avg       0.93      0.93      0.93       200\n",
      "\n"
     ]
    }
   ],
   "source": [
    "y_pred = model.predict(X_test)\n",
    "\n",
    "print(\"Akurasi Model:\", accuracy_score(y_test, y_pred))\n",
    "print(\"\\nConfusion Matrix:\\n\", confusion_matrix(y_test, y_pred))\n",
    "print(\"\\nLaporan Klasifikasi:\\n\", classification_report(y_test, y_pred))"
   ]
  },
  {
   "cell_type": "markdown",
   "id": "7bb4323f-df77-469e-9c58-23e51ded9f29",
   "metadata": {},
   "source": [
    "## Uji dengan Dataset Baru"
   ]
  },
  {
   "cell_type": "code",
   "execution_count": 10,
   "id": "43a4bdec-ff84-43e2-a4c2-4784182fd7d3",
   "metadata": {},
   "outputs": [
    {
     "name": "stdout",
     "output_type": "stream",
     "text": [
      "Prediksi: [0 1]\n"
     ]
    }
   ],
   "source": [
    "data_baru = pd.DataFrame({\n",
    "    'Usia': [28, 45],\n",
    "    'Status': [1, 2],\n",
    "    'Kelamin': [0, 1],\n",
    "    'Memiliki_Mobil': [0, 1],\n",
    "    'Penghasilan': [200, 300]\n",
    "})\n",
    "\n",
    "prediksi_baru = model.predict(data_baru)\n",
    "print(\"Prediksi:\", prediksi_baru)\n"
   ]
  },
  {
   "cell_type": "code",
   "execution_count": 11,
   "id": "30b49ca4-cc4e-424d-9a1c-40395b7e86ba",
   "metadata": {},
   "outputs": [
    {
     "name": "stdout",
     "output_type": "stream",
     "text": [
      "   Usia  Status  Kelamin  Memiliki_Mobil  Penghasilan  Prediksi_Beli_Mobil  \\\n",
      "0    28       1        0               0          200                    0   \n",
      "1    45       2        1               1          300                    1   \n",
      "\n",
      "         Keterangan  \n",
      "0  Tidak Beli Mobil  \n",
      "1        Beli Mobil  \n"
     ]
    }
   ],
   "source": [
    "hasil = data_baru.copy()\n",
    "hasil['Prediksi_Beli_Mobil'] = prediksi_baru\n",
    "hasil['Keterangan'] = hasil['Prediksi_Beli_Mobil'].map({0: 'Tidak Beli Mobil', 1: 'Beli Mobil'})\n",
    "print(hasil)\n"
   ]
  },
  {
   "cell_type": "code",
   "execution_count": null,
   "id": "55a26e2c-8daa-410e-b5aa-4bc09620f2f9",
   "metadata": {},
   "outputs": [],
   "source": []
  }
 ],
 "metadata": {
  "kernelspec": {
   "display_name": "Python 3 (ipykernel)",
   "language": "python",
   "name": "python3"
  },
  "language_info": {
   "codemirror_mode": {
    "name": "ipython",
    "version": 3
   },
   "file_extension": ".py",
   "mimetype": "text/x-python",
   "name": "python",
   "nbconvert_exporter": "python",
   "pygments_lexer": "ipython3",
   "version": "3.13.5"
  }
 },
 "nbformat": 4,
 "nbformat_minor": 5
}
